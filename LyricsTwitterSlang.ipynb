{
 "cells": [
  {
   "cell_type": "markdown",
   "metadata": {
    "id": "1L-E_JcuFpxD"
   },
   "source": [
    "# COGS 108 - Educated States Use Slang Words More??"
   ]
  },
  {
   "cell_type": "markdown",
   "metadata": {
    "id": "tUUKCnY8bhIW"
   },
   "source": [
    "Video Link: "
   ]
  },
  {
   "cell_type": "markdown",
   "metadata": {
    "id": "kuUYsQ94FpxF"
   },
   "source": [
    "## Permissions\n",
    "\n",
    "Place an `X` in the appropriate bracket below to specify if you would like your group's project to be made available to the public. (Note that student names will be included (but PIDs will be scraped from any groups who include their PIDs).\n",
    "\n",
    "* [  ] YES - make available\n",
    "* [X] NO - keep private"
   ]
  },
  {
   "cell_type": "markdown",
   "metadata": {
    "id": "5sx2gr4iFpxG"
   },
   "source": [
    "# Overview"
   ]
  },
  {
   "cell_type": "markdown",
   "metadata": {
    "id": "iSw9Ma2PZ_M-"
   },
   "source": [
    "For our project, we wanted to examine the relationship between the education levels in the United States, urbanization, and culture. To evaluate this relationship, we have gathered data from Spotify Top 50 viral songs data, song lyrics data from genius, education data by US states and counties, and twitter data. With these datasets, we are able to visualize the correlation and perform an OLS regression which suggests a correlation between education and urbanization. However, when evaluating the correlation using the lyrics data, correlation was not found, showing that while urban areas may skew more educated than the nation as a whole, both college educated, and urban residents may be at similar levels of cultural awareness as their more rural and non college educated counterparts. "
   ]
  },
  {
   "cell_type": "markdown",
   "metadata": {
    "id": "h4I16E0gFpxH"
   },
   "source": [
    "# Names\n",
    "\n",
    "- Sathvik Kaliyur\n",
    "- Maricela Vasquez\n",
    "- Kalaina Anderes\n",
    "- Helin Ergun\n",
    "- Nicholas Yamashita"
   ]
  },
  {
   "cell_type": "markdown",
   "metadata": {
    "id": "AJwR89NxFpxI"
   },
   "source": [
    "<a id='research_question'></a>\n",
    "# Research Question"
   ]
  },
  {
   "cell_type": "markdown",
   "metadata": {
    "id": "apdKGhjSFpxI"
   },
   "source": [
    "\n",
    "How do the differences in education levels in U.S. states and counties influence their socio-cultural environments? To measure this, we analyze how college education rates in counties relate to urbanization, and how looped in state residents in 2019 were to trendy vocabulary as measured by the frequency in which Twitter users in the various states used words that were very common across music in Spotify's Top 50 trending music charts in that year.\n",
    "\n",
    "``` ```\n",
    "\n",
    "---\n",
    "\n",
    "\n",
    "\n"
   ]
  },
  {
   "cell_type": "markdown",
   "metadata": {
    "id": "ybGkpj5tFpxJ"
   },
   "source": [
    "<a id='background'></a>\n",
    "\n",
    "## Background & Prior Work"
   ]
  },
  {
   "cell_type": "markdown",
   "metadata": {
    "id": "4TQRe2jvFpxJ"
   },
   "source": [
    "In this country today, there is increasing polarization among urban and rural areas, and among college educated and non college educated voters. This polarization is most apparent in the political arena where college educated voters and non college voters are continuously tending in the opposite direction. In the cultural arena, it seems as if Americans are starkly divided and that we live in cultural bubbles (1). This phenomenon coupled with the interest in music, and political/ socio-cultural trends among members of our group drove us to investigate how viral music tends to spread through the United States. There has been some research asking how social status, demographics, and political orientations correlate with music preference, but none that has looked actively at how music spreads throughout society. For example, one study found that in the 2016 primaries, enjoyment of rap music correlated with support for Bernie Sanders, and negatively correlated with support for Ted Cruz, while Religious music displayed the opposite phenomenon (1). We seek to go beyond the political arena to understand the overall cultural implications of music transmission and therefore, we are looking at education rates and level of urbanization to get to the root factors that have been identified by a bulk of work as key in creating the polarized American society we live in today (2).\n",
    "We are all of course current college students who enjoy music. In navigating our world, it would be interesting to see the social and societal impacts of the music we listen to. Nicholas & Maricela are familiar working with API's and scraping data. Kalaina is familiar with working with databases, storing and retrieving data. Sathvik is heavily entrenched in the political atmosphere, thus a familiarity with possible avenues of exploration. Sathvik is very keen on finding societal data, and good at operationalizing abstract variables/topics. With the abundant data found, Helin has a knack for processing, organizing, and plotting data. We are all excited to use education data such as: https://data.ers.usda.gov/reports.aspx?ID=17829 to help us create a more clear and less biased picture of music-to-lexicon impact.\n",
    "\n",
    "References (include links):\n",
    "<br>1) https://stars.library.ucf.edu/cgi/viewcontent.cgi?referer=&httpsredir=1&article=1168&context=honorstheses<br>\n",
    "2) https://www.theatlantic.com/politics/archive/2014/02/why-americans-are-so-polarized-education-and-evolution/284098/ <br>\n",
    "3) https://aclanthology.org/L16-1686/ <br>\n",
    "4) https://dipteshkanojia.github.io/files/lrec16-slangnet.pdf \n",
    "\n",
    "\n",
    "\n",
    "\n"
   ]
  },
  {
   "cell_type": "markdown",
   "metadata": {
    "id": "zxpzKa1wFpxK"
   },
   "source": [
    "# Hypothesis\n"
   ]
  },
  {
   "cell_type": "markdown",
   "metadata": {
    "id": "kVRQ7RuMFpxL"
   },
   "source": [
    "College education rates in States and Counties respectively are likely to be strongly correlated to utilization of more trendy vocabulary on social media and similarly, postively correlated with urbanization. Intuitively, those with college education would be more likely to congregate in major cities like New York or San Fransisco, and have greater exposure to emerging pop culture trends."
   ]
  },
  {
   "cell_type": "markdown",
   "metadata": {
    "id": "XD6HVXbcFpxM"
   },
   "source": [
    "# Dataset(s)"
   ]
  },
  {
   "cell_type": "markdown",
   "metadata": {
    "id": "k8psvoQ6FpxM"
   },
   "source": [
    "Dataset\n",
    "Name: Tweets<br>\n",
    "Link to the dataset: https://twitter.com<br>\n",
    "Number of observations: 100,000<br>\n",
    "Scraped tweets that contain slang from top 50 songs. This dataset serves as the basis for our analysis of slang use by state. <br><br><br>\n",
    "Dataset Name: song lyrics<br>\n",
    "Link to the dataset: https://genius.com<br>\n",
    "Number of observations: 50 * 365<br>\n",
    "Lyrics of the top 50 viral songs<br><br><br>\n",
    "Dataset Name: Education data by county<br>\n",
    "This dataset contains the list of slang words that were most popular in 2019 that we ought to analyze.\n",
    "Link to the dataset: https://data.ers.usda.gov/reports.aspx?ID=17829<br>\n",
    "Number of observations: 3151<br>\n",
    "Education data by county, of who went to college. This dataset contains the college education rate of every county in the United States. It also contains the urbanization index score of each county as well with its associated state.<br><br><br>\n",
    "\n",
    "Dataset Name: state-abbreviations\n",
    "Link: https://worldpopulationreview.com/states/state-abbreviations\n",
    "Number of observations: 50\n",
    "Dataset used to connect the county from our education dataset to the city from our spotify dataset\n",
    "State name abbreviations to keep uniformity in our datasets and produce cleaner graphs.\n",
    "\n"
   ]
  },
  {
   "cell_type": "markdown",
   "metadata": {
    "id": "YeJ-iT33FpxM"
   },
   "source": [
    "# Setup"
   ]
  },
  {
   "cell_type": "code",
   "execution_count": null,
   "metadata": {
    "id": "aqL-CbBlFpxO"
   },
   "outputs": [],
   "source": [
    "import re\n",
    "import json\n",
    "import pandas as pd\n",
    "import nltk\n",
    "#nltk.download('punkt')\n",
    "#nltk.download('stopwords')\n",
    "from nltk.tokenize import sent_tokenize, word_tokenize\n",
    "from nltk.corpus import stopwords\n",
    "import pandas as pd\n",
    "import csv\n",
    "import random\n",
    "import os\n",
    "import time\n",
    "import snscrape.modules.twitter as sntwitter\n",
    "import itertools\n",
    "import regex\n",
    "from collections import Counter\n",
    "import matplotlib.pyplot as plt\n",
    "from matplotlib.pyplot import figure\n",
    "import numpy as np"
   ]
  },
  {
   "cell_type": "code",
   "execution_count": 1,
   "metadata": {
    "id": "YEJL52N9IQPk"
   },
   "outputs": [],
   "source": [
    "import pandas as pd\n",
    "import numpy as np\n",
    "import matplotlib.pyplot as plt\n",
    "from matplotlib import rcParams\n",
    "# Import seaborn and apply its plotting styles\n",
    "import seaborn as sns\n",
    "sns.set(font_scale=2, style=\"white\")\n",
    "import math\n",
    "import warnings\n",
    "warnings.filterwarnings('ignore')\n",
    "pd.set_option(\"display.max_columns\", 104)\n",
    "import patsy\n",
    "import statsmodels.api as sm\n",
    "import scipy.stats as stats\n",
    "from scipy.stats import ttest_ind, chisquare, normaltest\n",
    "\n"
   ]
  },
  {
   "cell_type": "markdown",
   "metadata": {
    "id": "LeAxjyLkFpxO"
   },
   "source": [
    "# Data Cleaning"
   ]
  },
  {
   "cell_type": "markdown",
   "metadata": {
    "id": "3CQNqonpuXUq"
   },
   "source": [
    "**In this section we are scraping for two datasets.<br>**\n",
    "**1) Top 50 viral songs from 2019, their lyrics, and if the lyrics contain any slang words <br>**\n",
    "**2) Tweets from all over the USA that contain certain slang words** <br>\n",
    "\n",
    "\n",
    "SlangNET is huge. It has data from a few decades worth of known slang words, found from an extensive number of platforms like, Facebook, Instagram, YouTube, Twitter,…etc. Since we are working in the year 2019 and with Twitter data, we needed to narrow down the amount of slang words that were used in our search. So we thought that since music is something enjoyed by most people from all socioeconomic classes and geographical locations, we decided to see which slang-words from SlangNET were found in the 2019 most viral songs. It is our assumption that many slang-terms come from external influences, music being one of them. \n",
    "\n",
    "So we took a list from SlangNET’s 2019’s top slang terms and searched the top viral songs. Any words that were not found we dropped. The remaining slang words were then used to search our Twitter & Education datasets.\n",
    "\n",
    "\n"
   ]
  },
  {
   "cell_type": "markdown",
   "metadata": {
    "id": "wTFmHQ_UrHkK"
   },
   "source": [
    "# **Scraping Dataset #1 : Top 50 viral songs weekly for 2019, with lyrics.**\n",
    "\n",
    "\n",
    "\n",
    "We have to get the top 50 songs each week of the year from Spotify. For this, we had to hand download all 52 CSV's. Then, we had to merge them."
   ]
  },
  {
   "cell_type": "code",
   "execution_count": null,
   "metadata": {
    "id": "jt6u-kMcrGxG"
   },
   "outputs": [],
   "source": [
    "# Merge CSV's\n",
    "\n",
    "csv_list = []\n",
    "\n",
    "i = 2\n",
    "\n",
    "while i <= 52:\n",
    "    csv_list.append(f'songs_{i}.csv')\n",
    "    i = i + 1\n",
    "\n",
    "print(csv_list)\n",
    "\n",
    "df_master = pd.read_csv('master.csv')\n",
    "\n",
    "for file in csv_list:\n",
    "    df = pd.read_csv(file)\n",
    "    df.to_csv('master.csv', mode = 'a', header = False, index=False)"
   ]
  },
  {
   "cell_type": "markdown",
   "metadata": {
    "id": "6fTrKcjmrQh1"
   },
   "source": [
    "We then have to remove duplicates because some songs were trending for multiple weeks."
   ]
  },
  {
   "cell_type": "code",
   "execution_count": null,
   "metadata": {
    "id": "0RXXZlx_rRJd"
   },
   "outputs": [],
   "source": [
    "df = pd.read_csv('master.csv')\n",
    "\n",
    "# sort tracks alpha\n",
    "df.sort_values(\"Track Name\", inplace = True)\n",
    "\n",
    " # drop duplicates\n",
    "df_clean = df.drop_duplicates(subset=['Track Name'])\n",
    "\n",
    "# save\n",
    "df_clean.to_csv('master_3.csv', mode = 'a', header = False, index=False)"
   ]
  },
  {
   "cell_type": "markdown",
   "metadata": {
    "id": "bnNchQ_irUS7"
   },
   "source": [
    "Now that we have a clean list of songs, with artists, we have to scrape genius.com for those song lyrics. We did this part in an editor off the notebook, so we converted the CSV to JSON first as that's what the scraper requires."
   ]
  },
  {
   "cell_type": "code",
   "execution_count": null,
   "metadata": {
    "id": "P8PvFJFgrVAA"
   },
   "outputs": [],
   "source": [
    "csvfile = open('master_3.csv', 'r')\n",
    "jsonfile = open('pranaj.json', 'w')\n",
    "\n",
    "\n",
    "\n",
    "fieldnames = ('week rank', 'song', 'artist', 'lyrics' )\n",
    "reader = csv.DictReader( csvfile, fieldnames)\n",
    "for row in reader:\n",
    "    json.dump(row, jsonfile, indent=4)\n",
    "    jsonfile.write(',\\n')"
   ]
  },
  {
   "cell_type": "markdown",
   "metadata": {
    "id": "gOBN5eu8rbHv"
   },
   "source": [
    "Scraping Genius.com for lyrics and appending to the appropriate song/artists row. We acquired an access token and worked with the Genius.com API to then scrape the website. We filtered for just the lyrics, and appended the appropriate lyrics to the correct song name - artist. We used a try except block incase there were Javascript DOM errors."
   ]
  },
  {
   "cell_type": "code",
   "execution_count": null,
   "metadata": {
    "id": "247ghR6SrcIY"
   },
   "outputs": [],
   "source": [
    "# Client Access Token\n",
    "token = \"t19ZRmG1y5jaY-LjD1SEFdLuTB0dDiwQab4SNxWIofs7g8XHt6uJLCX8bnd-dow1\"\n",
    "\n",
    "genius = lyricsgenius.Genius(token)\n",
    "genius.response_format = 'plain'\n",
    "\n",
    "\n",
    "# open json file that is in the same directory\n",
    "with open('master_json.json') as f:\n",
    "    # load json data into a python object\n",
    "    data = json.load(f)\n",
    "\n",
    "\n",
    "# loop through each song/artist and find lyrics then append to JSON obj\n",
    "for tweets in data['tweets']:\n",
    "\n",
    "    try:\n",
    "        content_artist = tweets['Artist']\n",
    "        content_track = tweets['Track Name']\n",
    "\n",
    "        artist = genius.search_artist(f\"{content_artist}\", max_songs=1, sort=\"title\", include_features=True)\n",
    "        song = artist.song(f\"{content_track}\")\n",
    "\n",
    "\n",
    "        print(song.lyrics)\n",
    "\n",
    "        tweets['Lyrics'] = song.lyrics\n",
    "\n",
    "        # Save\n",
    "        with open('master_lyrics_added.json', 'w') as f:\n",
    "            json.dump(data, f, indent = 2)\n",
    "    except:\n",
    "        continue"
   ]
  },
  {
   "cell_type": "markdown",
   "metadata": {
    "id": "YPYqUtu_sA32"
   },
   "source": [
    "Now, we have the top 50 songs of each week in 2019 with each song's lyrics.\n",
    "\n",
    "Next we will search each song's lyrics for the slang_words from our list. We are using regex to do this. We are then appending each found **slang_word** found to the \"slang\" column.\n"
   ]
  },
  {
   "cell_type": "code",
   "execution_count": null,
   "metadata": {
    "id": "gxY7YtYcGVfG"
   },
   "outputs": [],
   "source": [
    "# loop though lyrics and find the slang words and append to a new column\n",
    "# using metaphorFind and metaphors becuase we were orignally going to search for metaphors instead of slang. Code still works of course\n",
    "\n",
    "\n",
    "# open json file that is in the same directory\n",
    "with open('master_lyrics_added.json') as f:\n",
    "    # load json data into a python object\n",
    "    data = json.load(f)\n",
    "\n",
    "\n",
    "# loop through 'tweets' looking for certain keys\n",
    "#for tweets in data['tweets']:\n",
    "    #print(tweets['like count'], tweets['url'])\n",
    "    #del tweets['metaphorFamily']\n",
    "\n",
    "    # remove all emojis in tweets?\n",
    "\n",
    "for tweets in data['tweets']:\n",
    "    content = tweets['lyrics ']\n",
    "\n",
    "    #metaphores stored here\n",
    "    metaphorsFound = ''\n",
    "\n",
    "    #metapphor family stored here\n",
    "    metaphorFamilyFound = ''\n",
    "\n",
    "\n",
    "\n",
    "# metaphorFind begin -------\n",
    "\n",
    "    # must split tweet before putting into pandas series\n",
    "    splitTweet = content.split()\n",
    "    s1 = pd.Series(splitTweet)\n",
    "\n",
    "\n",
    "\n",
    "    # metaphor categories start here --------\n",
    "\n",
    "    # metaphor list 'Stan'\n",
    "    naturalDisaster = ['stan']\n",
    "    compareToNaturalDisaster = s1.str.contains('|'.join(naturalDisaster), case = False)\n",
    "\n",
    "    counter1 = 0\n",
    "\n",
    "    # for loop through the results to find all the true values.\n",
    "    for i in compareToNaturalDisaster:\n",
    "        if i == True:\n",
    "            #metaphorsFound.append(splitTweet[counter])\n",
    "            metaphorsFound = splitTweet[counter1] + ' ,' + metaphorsFound\n",
    "            metaphorFamilyFound = 'stan '\n",
    "\n",
    "        counter1 = counter1 + 1\n",
    "\n",
    "\n",
    "\n",
    "\n",
    "    # metaphor list 'Full send'\n",
    "    battle = ['full send', 'fullsend']\n",
    "    compareToBattle = s1.str.contains('|'.join(battle), case = False)\n",
    "\n",
    "    counter2 = 0\n",
    "\n",
    "    # for loop through the results to find all the true values.\n",
    "    for i in compareToBattle:\n",
    "        if i == True:\n",
    "            #metaphorsFound.append(splitTweet[counter])\n",
    "            metaphorsFound = splitTweet[counter2] + ' ,' + metaphorsFound\n",
    "            metaphorFamilyFound = 'full send ' + ', ' + metaphorFamilyFound\n",
    "\n",
    "        counter2 = counter2 + 1\n",
    "\n",
    "\n",
    "\n",
    "\n",
    "    # metaphor list 'Snatched'\n",
    "    disease = ['snatched']\n",
    "    compareToDisease = s1.str.contains('|'.join(disease), case = False)\n",
    "\n",
    "    counter3 = 0\n",
    "\n",
    "    # for loop through the results to find all the true values.\n",
    "    for i in compareToDisease:\n",
    "        if i == True:\n",
    "            #metaphorsFound.append(splitTweet[counter])\n",
    "            metaphorsFound = splitTweet[counter3] + ' ,' + metaphorsFound\n",
    "            metaphorFamilyFound = 'snatched ' + ', ' + metaphorFamilyFound\n",
    "\n",
    "        counter3 = counter3 + 1\n",
    "\n",
    "\n",
    "\n",
    "\n",
    "    # metaphor list 'Woke'\n",
    "    container = ['woke']\n",
    "    compareToContainer = s1.str.contains('|'.join(container), case = False)\n",
    "\n",
    "    counter4 = 0\n",
    "\n",
    "    # for loop through the results to find all the true values.\n",
    "    for i in compareToContainer:\n",
    "        if i == True:\n",
    "            #metaphorsFound.append(splitTweet[counter])\n",
    "            metaphorsFound = splitTweet[counter4] + ' ,' + metaphorsFound\n",
    "            metaphorFamilyFound = 'woke ' + ', ' + metaphorFamilyFound\n",
    "\n",
    "        counter4 = counter4 + 1\n",
    "\n",
    "\n",
    "\n",
    "\n",
    "    # metaphor list 'Flex'\n",
    "    positive = ['flex']\n",
    "    compareToPositive = s1.str.contains('|'.join(positive), case = False)\n",
    "\n",
    "    counter5 = 0\n",
    "\n",
    "    # for loop through the results to find all the true values.\n",
    "    for i in compareToPositive:\n",
    "        if i == True:\n",
    "            #metaphorsFound.append(splitTweet[counter])\n",
    "            metaphorsFound = splitTweet[counter5] + ' ,' + metaphorsFound\n",
    "            metaphorFamilyFound = 'flex ' + ', ' + metaphorFamilyFound\n",
    "\n",
    "        counter5 = counter5 + 1\n",
    "\n",
    "\n",
    "\n",
    "\n",
    "    # metaphor list 'Fax'\n",
    "    influx = ['fax']\n",
    "    compareToInflux = s1.str.contains('|'.join(influx), case = False)\n",
    "\n",
    "    counter6 = 0\n",
    "\n",
    "    # for loop through the results to find all the true values.\n",
    "    for i in compareToInflux:\n",
    "        if i == True:\n",
    "            #metaphorsFound.append(splitTweet[counter])\n",
    "            metaphorsFound = splitTweet[counter6] + ' ,' + metaphorsFound\n",
    "            metaphorFamilyFound = 'fax ' + ', ' + metaphorFamilyFound\n",
    "\n",
    "        counter6 = counter6 + 1\n",
    "\n",
    "\n",
    "\n",
    "    # metaphor list 'Receipt'\n",
    "    email = ['receipt']\n",
    "    compareToEmail = s1.str.contains('|'.join(email), case = False)\n",
    "\n",
    "    counter7 = 0\n",
    "\n",
    "    # for loop through the results to find all the true values.\n",
    "    for i in compareToEmail:\n",
    "        if i == True:\n",
    "            #metaphorsFound.append(splitTweet[counter])\n",
    "            metaphorsFound = splitTweet[counter7] + ' ,' + metaphorsFound\n",
    "            metaphorFamilyFound = 'receipt ' + ', ' + metaphorFamilyFound\n",
    "\n",
    "        counter7 = counter7 + 1\n",
    "\n",
    "\n",
    "\n",
    "    # metaphor list 'Boomer'\n",
    "    return1 = ['boomer']\n",
    "    compareToReturn = s1.str.contains('|'.join(return1), case = False)\n",
    "\n",
    "    counter8 = 0\n",
    "\n",
    "    # for loop through the results to find all the true values.\n",
    "    for i in compareToReturn:\n",
    "        if i == True:\n",
    "            #metaphorsFound.append(splitTweet[counter])\n",
    "            metaphorsFound = splitTweet[counter8] + ' ,' + metaphorsFound\n",
    "            metaphorFamilyFound = 'boomer ' + ', ' + metaphorFamilyFound\n",
    "\n",
    "        counter8 = counter8 + 1\n",
    "\n",
    "\n",
    "\n",
    "\n",
    "\n",
    "    # metaphor list 'Thicc'\n",
    "    cart = ['thicc']\n",
    "    compareToCart = s1.str.contains('|'.join(cart), case = False)\n",
    "\n",
    "    counter9 = 0\n",
    "\n",
    "    # for loop through the results to find all the true values.\n",
    "    for i in compareToCart:\n",
    "        if i == True:\n",
    "            #metaphorsFound.append(splitTweet[counter])\n",
    "            metaphorsFound = splitTweet[counter9] + ' ,' + metaphorsFound\n",
    "            metaphorFamilyFound = 'thicc ' + ', ' + metaphorFamilyFound\n",
    "\n",
    "        counter9 = counter9 + 1\n",
    "\n",
    "\n",
    "\n",
    "\n",
    "\n",
    "    # metaphor list 'Ghosted'\n",
    "    globalsite = ['ghosted']\n",
    "    compareToGlobal = s1.str.contains('|'.join(globalsite), case = False)\n",
    "\n",
    "    counter10 = 0\n",
    "\n",
    "    # for loop through the results to find all the true values.\n",
    "    for i in compareToGlobal:\n",
    "        if i == True:\n",
    "            #metaphorsFound.append(splitTweet[counter])\n",
    "            metaphorsFound = splitTweet[counter10] + ' ,' + metaphorsFound\n",
    "            metaphorFamilyFound = 'ghosted ' + ', ' + metaphorFamilyFound\n",
    "\n",
    "        counter10 = counter10 + 1\n",
    "\n",
    "\n",
    "\n",
    "\n",
    "    # metaphor list 'High Key'\n",
    "    website = ['high key', 'highkey']\n",
    "    compareToWebsite = s1.str.contains('|'.join(website), case = False)\n",
    "\n",
    "    counter11 = 0\n",
    "\n",
    "    # for loop through the results to find all the true values.\n",
    "    for i in compareToWebsite:\n",
    "        if i == True:\n",
    "            #metaphorsFound.append(splitTweet[counter])\n",
    "            metaphorsFound = splitTweet[counter11] + ' ,' + metaphorsFound\n",
    "            metaphorFamilyFound = 'high key ' + ', ' + metaphorFamilyFound\n",
    "\n",
    "        counter11 = counter11 + 1\n",
    "\n",
    "\n",
    "\n",
    "\n",
    "    # metaphor list 'Squad'\n",
    "    customerservice = ['squad']\n",
    "    compareToCustomer = s1.str.contains('|'.join(customerservice), case = False)\n",
    "\n",
    "    counter12 = 0\n",
    "\n",
    "    # for loop through the results to find all the true values.\n",
    "    for i in compareToCustomer:\n",
    "        if i == True:\n",
    "            #metaphorsFound.append(splitTweet[counter])\n",
    "            metaphorsFound = splitTweet[counter12] + ' ,' + metaphorsFound\n",
    "            metaphorFamilyFound = 'squad ' + ', ' + metaphorFamilyFound\n",
    "\n",
    "        counter12 = counter12 + 1\n",
    "\n",
    "\n",
    "\n",
    "    # metaphor list 'Glow up'\n",
    "    account = ['glow up', 'glowup']\n",
    "    compareToAccount = s1.str.contains('|'.join(account), case = False)\n",
    "\n",
    "    counter13 = 0\n",
    "\n",
    "    # for loop through the results to find all the true values.\n",
    "    for i in compareToAccount:\n",
    "        if i == True:\n",
    "            #metaphorsFound.append(splitTweet[counter])\n",
    "            metaphorsFound = splitTweet[counter13] + ' ,' + metaphorsFound\n",
    "            metaphorFamilyFound = 'glow up ' + ', ' + metaphorFamilyFound\n",
    "\n",
    "        counter13 = counter13 + 1\n",
    "\n",
    "\n",
    "\n",
    "\n",
    "    # metaphor list 'Tea '\n",
    "    sustainability  = ['tea' ]\n",
    "    compareToSustainability = s1.str.contains('|'.join(sustainability), case = False)\n",
    "\n",
    "    counter14 = 0\n",
    "\n",
    "    # for loop through the results to find all the true values.\n",
    "    for i in compareToSustainability:\n",
    "        if i == True:\n",
    "            #metaphorsFound.append(splitTweet[counter])\n",
    "            metaphorsFound = splitTweet[counter14] + ' ,' + metaphorsFound\n",
    "            metaphorFamilyFound = 'tea  ' + ', ' + metaphorFamilyFound\n",
    "\n",
    "        counter14 = counter14 + 1\n",
    "\n",
    "\n",
    "\n",
    "    # metaphor list 'Shook '\n",
    "    active  = ['shook' ]\n",
    "    compareToActive = s1.str.contains('|'.join(active), case = False)\n",
    "\n",
    "    counter15 = 0\n",
    "\n",
    "    # for loop through the results to find all the true values.\n",
    "    for i in compareToActive:\n",
    "        if i == True:\n",
    "            #metaphorsFound.append(splitTweet[counter])\n",
    "            metaphorsFound = splitTweet[counter15] + ' ,' + metaphorsFound\n",
    "            metaphorFamilyFound = 'shook  ' + ', ' + metaphorFamilyFound\n",
    "\n",
    "        counter15 = counter15 + 1\n",
    "\n",
    "\n",
    "\n",
    "\n",
    "    # metaphor list 'Shookth '\n",
    "    swim  = ['shookth' ]\n",
    "    compareToSwim = s1.str.contains('|'.join(swim), case = False)\n",
    "\n",
    "    counter16 = 0\n",
    "\n",
    "    # for loop through the results to find all the true values.\n",
    "    for i in compareToSwim:\n",
    "        if i == True:\n",
    "            #metaphorsFound.append(splitTweet[counter])\n",
    "            metaphorsFound = splitTweet[counter16] + ' ,' + metaphorsFound\n",
    "            metaphorFamilyFound = 'shookth  ' + ', ' + metaphorFamilyFound\n",
    "\n",
    "        counter16 = counter16 + 1\n",
    "\n",
    "\n",
    "\n",
    "\n",
    "    # metaphor list 'Mood '\n",
    "    dress  = ['mood' ]\n",
    "    compareToDress = s1.str.contains('|'.join(dress), case = False)\n",
    "\n",
    "    counter17 = 0\n",
    "\n",
    "    # for loop through the results to find all the true values.\n",
    "    for i in compareToDress:\n",
    "        if i == True:\n",
    "            #metaphorsFound.append(splitTweet[counter])\n",
    "            metaphorsFound = splitTweet[counter17] + ' ,' + metaphorsFound\n",
    "            metaphorFamilyFound = 'mood ' + ', ' + metaphorFamilyFound\n",
    "\n",
    "        counter17 = counter17 + 1\n",
    "\n",
    "\n",
    "\n",
    "\n",
    "\n",
    "    # metaphor list 'cap '\n",
    "    skirt  = ['cap' ]\n",
    "    compareToSkirt = s1.str.contains('|'.join(skirt), case = False)\n",
    "\n",
    "    counter18 = 0\n",
    "\n",
    "    # for loop through the results to find all the true values.\n",
    "    for i in compareToSkirt:\n",
    "        if i == True:\n",
    "            #metaphorsFound.append(splitTweet[counter])\n",
    "            metaphorsFound = splitTweet[counter18] + ' ,' + metaphorsFound\n",
    "            metaphorFamilyFound = 'cap  ' + ', ' + metaphorFamilyFound\n",
    "\n",
    "        counter18 = counter18 + 1\n",
    "\n",
    "\n",
    "\n",
    "\n",
    "\n",
    "    # metaphor list 'Swerve '\n",
    "    pant  = ['swerve']\n",
    "    compareToPant = s1.str.contains('|'.join(pant), case = False)\n",
    "\n",
    "    counter19 = 0\n",
    "\n",
    "    # for loop through the results to find all the true values.\n",
    "    for i in compareToPant:\n",
    "        if i == True:\n",
    "            #metaphorsFound.append(splitTweet[counter])\n",
    "            metaphorsFound = splitTweet[counter19] + ' ,' + metaphorsFound\n",
    "            metaphorFamilyFound = 'swerve  ' + ', ' + metaphorFamilyFound\n",
    "\n",
    "        counter19 = counter19 + 1\n",
    "\n",
    "\n",
    "\n",
    "\n",
    "    # metaphor list 'Shade '\n",
    "    shirt  = ['shade' ]\n",
    "    compareToShirt = s1.str.contains('|'.join(shirt), case = False)\n",
    "\n",
    "    counter20 = 0\n",
    "\n",
    "    # for loop through the results to find all the true values.\n",
    "    for i in compareToShirt:\n",
    "        if i == True:\n",
    "            #metaphorsFound.append(splitTweet[counter])\n",
    "            metaphorsFound = splitTweet[counter20] + ' ,' + metaphorsFound\n",
    "            metaphorFamilyFound = 'shade  ' + ', ' + metaphorFamilyFound\n",
    "\n",
    "        counter20 = counter20 + 1\n",
    "\n",
    "\n",
    "\n",
    "\n",
    "\n",
    "    # metaphor list 'Goat '\n",
    "    short  = ['goat' ]\n",
    "    compareToShort = s1.str.contains('|'.join(short), case = False)\n",
    "\n",
    "    counter21 = 0\n",
    "\n",
    "    # for loop through the results to find all the true values.\n",
    "    for i in compareToShort:\n",
    "        if i == True:\n",
    "            #metaphorsFound.append(splitTweet[counter])\n",
    "            metaphorsFound = splitTweet[counter21] + ' ,' + metaphorsFound\n",
    "            metaphorFamilyFound = 'goat  ' + ', ' + metaphorFamilyFound\n",
    "\n",
    "        counter21 = counter21 + 1\n",
    "\n",
    "\n",
    "\n",
    "    # metaphor list 'Extra '\n",
    "    sweater  = ['extra' ]\n",
    "    compareToSweater = s1.str.contains('|'.join(sweater), case = False)\n",
    "\n",
    "    counter22 = 0\n",
    "\n",
    "    # for loop through the results to find all the true values.\n",
    "    for i in compareToSweater:\n",
    "        if i == True:\n",
    "            #metaphorsFound.append(splitTweet[counter])\n",
    "            metaphorsFound = splitTweet[counter22] + ' ,' + metaphorsFound\n",
    "            metaphorFamilyFound = 'extra  ' + ', ' + metaphorFamilyFound\n",
    "\n",
    "        counter22 = counter22 + 1\n",
    "\n",
    "\n",
    "\n",
    "\n",
    "    # metaphor list 'Gucci '\n",
    "    jacket  = ['gucci' ]\n",
    "    compareToJacket = s1.str.contains('|'.join(jacket), case = False)\n",
    "\n",
    "    counter23 = 0\n",
    "\n",
    "    # for loop through the results to find all the true values.\n",
    "    for i in compareToJacket:\n",
    "        if i == True:\n",
    "            #metaphorsFound.append(splitTweet[counter])\n",
    "            metaphorsFound = splitTweet[counter23] + ' ,' + metaphorsFound\n",
    "            metaphorFamilyFound = 'gucci  ' + ', ' + metaphorFamilyFound\n",
    "\n",
    "        counter23 = counter23 + 1\n",
    "\n",
    "\n",
    "\n",
    "\n",
    "    # metaphor list 'Lit '\n",
    "    style  = ['lit' ]\n",
    "    compareToStyle = s1.str.contains('|'.join(style), case = False)\n",
    "\n",
    "    counter24 = 0\n",
    "\n",
    "    # for loop through the results to find all the true values.\n",
    "    for i in compareToStyle:\n",
    "        if i == True:\n",
    "            #metaphorsFound.append(splitTweet[counter])\n",
    "            metaphorsFound = splitTweet[counter24] + ' ,' + metaphorsFound\n",
    "            metaphorFamilyFound = 'lit  ' + ', ' + metaphorFamilyFound\n",
    "\n",
    "        counter24 = counter24 + 1\n",
    "\n",
    "\n",
    "\n",
    "\n",
    "    # metaphor list 'Lowkey '\n",
    "    hat  = ['low key', 'lowkey' ]\n",
    "    compareToHat = s1.str.contains('|'.join(hat), case = False)\n",
    "\n",
    "    counter25 = 0\n",
    "\n",
    "    # for loop through the results to find all the true values.\n",
    "    for i in compareToHat:\n",
    "        if i == True:\n",
    "            #metaphorsFound.append(splitTweet[counter])\n",
    "            metaphorsFound = splitTweet[counter25] + ' ,' + metaphorsFound\n",
    "            metaphorFamilyFound = 'low key  ' + ', ' + metaphorFamilyFound\n",
    "\n",
    "        counter25 = counter25 + 1\n",
    "\n",
    "\n",
    "\n",
    "    # metaphor list 'Savage '\n",
    "    sustainability  = ['savage' ]\n",
    "    compareToSustainability = s1.str.contains('|'.join(sustainability), case = False)\n",
    "\n",
    "    counter26 = 0\n",
    "\n",
    "    # for loop through the results to find all the true values.\n",
    "    for i in compareToSustainability:\n",
    "        if i == True:\n",
    "            #metaphorsFound.append(splitTweet[counter])\n",
    "            metaphorsFound = splitTweet[counter26] + ' ,' + metaphorsFound\n",
    "            metaphorFamilyFound = 'savage  ' + ', ' + metaphorFamilyFound\n",
    "\n",
    "        counter26 = counter26 + 1\n",
    "\n",
    "\n",
    "\n",
    "    # metaphor list 'Thirsty '\n",
    "    thirsty  = ['thirsty' ]\n",
    "    compareToThirsty = s1.str.contains('|'.join(thirsty), case = False)\n",
    "\n",
    "    counter27 = 0\n",
    "\n",
    "    # for loop through the results to find all the true values.\n",
    "    for i in compareToThirsty:\n",
    "        if i == True:\n",
    "            #metaphorsFound.append(splitTweet[counter])\n",
    "            metaphorsFound = splitTweet[counter27] + ' ,' + metaphorsFound\n",
    "            metaphorFamilyFound = 'thirsty  ' + ', ' + metaphorFamilyFound\n",
    "\n",
    "        counter27 = counter27 + 1\n",
    "\n",
    "\n",
    "    # metaphor list 'af '\n",
    "    asfuck  = ['af', 'AF' ]\n",
    "    compareToAsfuck = s1.str.contains('|'.join(asfuck), case = False)\n",
    "\n",
    "    counter28 = 0\n",
    "\n",
    "    # for loop through the results to find all the true values.\n",
    "    for i in compareToAsfuck:\n",
    "        if i == True:\n",
    "            #metaphorsFound.append(splitTweet[counter])\n",
    "            metaphorsFound = splitTweet[counter28] + ' ,' + metaphorsFound\n",
    "            metaphorFamilyFound = 'af  ' + ', ' + metaphorFamilyFound\n",
    "\n",
    "        counter28 = counter28 + 1\n",
    "\n",
    "\n",
    "    # metaphor list 'bet '\n",
    "    bet  = ['bet' ]\n",
    "    compareToBet = s1.str.contains('|'.join(bet), case = False)\n",
    "\n",
    "    counter29 = 0\n",
    "\n",
    "    # for loop through the results to find all the true values.\n",
    "    for i in compareToBet:\n",
    "        if i == True:\n",
    "            #metaphorsFound.append(splitTweet[counter])\n",
    "            metaphorsFound = splitTweet[counter29] + ' ,' + metaphorsFound\n",
    "            metaphorFamilyFound = 'bet ' + ', ' + metaphorFamilyFound\n",
    "\n",
    "        counter29 = counter29 + 1\n",
    "\n",
    "\n",
    "\n",
    "\n",
    "\n",
    "\n",
    "    # metaphor categories end here --------\n",
    "\n",
    "\n",
    "\n",
    "\n",
    "\n",
    "    # add new key:values\n",
    "    # TO-DO REMOVE DUPLICATETES\n",
    "    #tweets['metaphorsFound'] = metaphorsFound\n",
    "    tweets['slang'] = metaphorFamilyFound\n",
    "\n",
    "\n",
    "# metaphorFind END -----------\n",
    "\n",
    "\n",
    "\n",
    "\n",
    "\n",
    "# Save python object to a json file\n",
    "# First open the file we 'read' into\n",
    "\n",
    "with open('LyricsSlagAdded.json', 'w') as f:\n",
    "    json.dump(data, f, indent = 2)\n"
   ]
  },
  {
   "cell_type": "code",
   "execution_count": null,
   "metadata": {
    "id": "xhHbbCwPGZ_W"
   },
   "outputs": [],
   "source": [
    "#Convert JSON to CSV\n",
    "\n",
    "with open(\"LyricsSlagAdded.json\") as file:\n",
    "    data = json.load(file)\n",
    "\n",
    "fname = \"master_lyrics_added.csv\"\n",
    "\n",
    "with open(fname, \"w\") as file:\n",
    "    csv_file = csv.writer(file)\n",
    "    csv_file.writerow([])\n",
    "    for item in data[\"tweets\"]:\n",
    "        csv_file.writerow([item['week rank'],item['song'], item['artist'], item['lyrics'], item['slang']])\n"
   ]
  },
  {
   "cell_type": "markdown",
   "metadata": {
    "id": "283dwyNusfGy"
   },
   "source": [
    "We convert this back to CSV so we can read it in the notebook."
   ]
  },
  {
   "cell_type": "code",
   "execution_count": null,
   "metadata": {
    "id": "XKAZnOkwsgpU"
   },
   "outputs": [],
   "source": [
    "#Convert JSON to CSV\n",
    "\n",
    "with open(\"LyricsSlagAdded.json\") as file:\n",
    "    data = json.load(file)\n",
    "\n",
    "fname = \"master_lyrics_added.csv\"\n",
    "\n",
    "with open(fname, \"w\") as file:\n",
    "    csv_file = csv.writer(file)\n",
    "    csv_file.writerow([])\n",
    "    for item in data[\"tweets\"]:\n",
    "        csv_file.writerow([item['week rank'],item['song'], item['artist'], item['lyrics'], item['slang']])\n"
   ]
  },
  {
   "cell_type": "markdown",
   "metadata": {
    "id": "euaF5JvYsrM3"
   },
   "source": [
    "Final result.  --> Song, Artist, Lyrics, Slang Words Found in Lyrics"
   ]
  },
  {
   "cell_type": "code",
   "execution_count": null,
   "metadata": {
    "id": "Cw-RGTCCGeJ_"
   },
   "outputs": [],
   "source": [
    "#read in the CSV with the slang terms found\n",
    "\n",
    "lyrics_slang = pd.read_csv('song_lyrics_slang_freq.csv')\n",
    "lyrics_slang"
   ]
  },
  {
   "cell_type": "markdown",
   "metadata": {
    "id": "dBugKmG4qiHa"
   },
   "source": [
    "# **Scraping for Dataset #2 : Tweets from each major U.S.A. city filtering for certain slang words**\n",
    "\n",
    "For our project we needed a list of commonly used slang words for 2019. SlangNET, they found a way to detect slang words from social media corpus. So for 2019 they published a list, we had to use an elsevier \"work around\" to get the actual list.\n"
   ]
  },
  {
   "cell_type": "code",
   "execution_count": null,
   "metadata": {
    "id": "E4yjJeFrFpxP"
   },
   "outputs": [],
   "source": [
    "# bag of slang words for 2019 from SlangNET : https://aclanthology.org/L16-1686/   &&   https://dipteshkanojia.github.io/files/lrec16-slangnet.pdf\n",
    "\n",
    "slang_words = ['stan', 'full send', 'snatched', 'woke', 'flex',\n",
    "               'fax', 'receipt', 'boomer', 'thicc',\n",
    "               'ghosted', 'high key', 'squad',\n",
    "               'glow up', 'tea', 'shook', 'shookth',\n",
    "               'mood', 'cap', 'swerve', 'shade', 'goat', 'extra', 'gucci', 'lit', 'low key',\n",
    "               'savage', 'thirsty', 'af', 'bet']"
   ]
  },
  {
   "cell_type": "markdown",
   "metadata": {
    "id": "nawm_5Znqmpw"
   },
   "source": [
    "Here, we read in and view the county data from the education dataset."
   ]
  },
  {
   "cell_type": "code",
   "execution_count": null,
   "metadata": {
    "id": "kR7WPRWCGGw8"
   },
   "outputs": [],
   "source": [
    "#reading in county data\n",
    "df_edu = pd.read_csv('edu_county.csv')\n",
    "df = df_edu['County']"
   ]
  },
  {
   "cell_type": "code",
   "execution_count": null,
   "metadata": {
    "id": "4JkgcCFOGHif"
   },
   "outputs": [],
   "source": [
    "df_state = df_edu['State']\n",
    "df_state"
   ]
  },
  {
   "cell_type": "markdown",
   "metadata": {
    "id": "JcirE8rvqtVr"
   },
   "source": [
    "Here we acquired the top Major Cities dataset from: https://en.wikipedia.org/wiki/List_of_United_States_cities_by_population\n",
    "\n",
    "We read in the data and set our variables for the city and states."
   ]
  },
  {
   "cell_type": "code",
   "execution_count": null,
   "metadata": {
    "id": "kcyuumcvGJDa"
   },
   "outputs": [],
   "source": [
    "# reading in top Major cities in USA. Setting City and State variables.\n",
    "city_state = pd.read_csv('city_state.csv')\n",
    "city = city_state['City']\n",
    "state = city_state['State']\n",
    "\n",
    "state"
   ]
  },
  {
   "cell_type": "markdown",
   "metadata": {
    "id": "hZKQ6hkiqwuk"
   },
   "source": [
    "We now scrape Twitter for tweets. We are using Twitter because it can be a decent representation of language data in text form. And it is a dataset that is diverse in time and location. We are basically scraping geographically by city, at a random point in time (within 2019) for each one of our slang words. Each city is sampled evenly in terms of amounts of scrape attempts.\n"
   ]
  },
  {
   "cell_type": "code",
   "execution_count": null,
   "metadata": {
    "id": "LK9en4eOGK24"
   },
   "outputs": [],
   "source": [
    "# Scraping Twitter for 10 slang_words words from 10 random dates in each Major city. \n",
    "# Scrapes for keyword in targeted cities.\n",
    "\n",
    "state_count = 0\n",
    "\n",
    "for locations in city:\n",
    "    \n",
    "    for word in slang_words:\n",
    "        \n",
    "    \n",
    "        # try except block\n",
    "        try:\n",
    "\n",
    "\n",
    "            keyword = word\n",
    "            location = locations\n",
    "\n",
    "            # Set maximum tweets to pull\n",
    "\n",
    "            # How many different dates (set high #)\n",
    "            maxTweets2 = 5\n",
    "\n",
    "            # How many tweets per specific date (set low # - medium #)\n",
    "            maxTweets = 1\n",
    "\n",
    "            # tweets pulled will be: maxTweets2 * maxTweets = TOTAL\n",
    "\n",
    "\n",
    "            #Open/create a file to append data to\n",
    "            csvFile = open('slang_tweets_City.csv', 'a', newline='', encoding='utf8')\n",
    "\n",
    "            #Use csv writer\n",
    "            csvWriter = csv.writer(csvFile)\n",
    "            csvWriter.writerow(['url','date','tweet','county', 'state'])\n",
    "            \n",
    "            \n",
    "            \n",
    "\n",
    "            # Write tweets into the csv filter\n",
    "            for i in range(maxTweets2):\n",
    "\n",
    "                randomEndYear = int(2019)\n",
    "                randomEndMonth = int((12 * random.random()))\n",
    "                randomEndDay = int((28 * random.random()))\n",
    "                for i,tweet in enumerate(sntwitter.TwitterSearchScraper(keyword + ' near:\"{}\" lang:en since:2019-01-01 until:{}-{}-{} -filter:links -filter:replies'.format(location, randomEndYear, randomEndMonth, randomEndDay)).get_items()):\n",
    "\n",
    "                        if i > maxTweets :\n",
    "                            break\n",
    "                        csvWriter.writerow([tweet.url, tweet.date, tweet.content, location, state[state_count]])\n",
    "                        \n",
    "                        \n",
    "                        \n",
    "          \n",
    "\n",
    "            \n",
    "   \n",
    "\n",
    "        except:\n",
    "            continue\n",
    "\n",
    "    \n",
    "    csvFile.close()\n",
    "    state_count = state_count + 1\n",
    "    print(f\"{location} done\")\n",
    "\n",
    "\n"
   ]
  },
  {
   "cell_type": "code",
   "execution_count": null,
   "metadata": {
    "id": "nHvJPmidGNF-"
   },
   "outputs": [],
   "source": [
    "# import scraped city-slang data & preview\n",
    "city_slang = pd.read_csv('SlagAdded_Clean2.csv')\n",
    "city_slang"
   ]
  },
  {
   "cell_type": "markdown",
   "metadata": {
    "id": "3-yiUvZEq0wU"
   },
   "source": [
    "We are removing duplicate tweets, based on the tweet column. Then we will have our First Scraped Dataset, \"Tweets scraped by major city, random sampling in non-linear time, filtering by SlangNET's 2019 **slang_words**\""
   ]
  },
  {
   "cell_type": "code",
   "execution_count": null,
   "metadata": {
    "id": "R3VMrVLiGOxl"
   },
   "outputs": [],
   "source": [
    "# drop duplicate tweets of the major city - slang data\n",
    "city_slang_clean = city_slang.drop_duplicates(subset=['tweet'])\n",
    "city_slang_clean\n"
   ]
  },
  {
   "cell_type": "code",
   "execution_count": null,
   "metadata": {
    "id": "3HGZg6xEGfea"
   },
   "outputs": [],
   "source": []
  },
  {
   "cell_type": "code",
   "execution_count": null,
   "metadata": {
    "id": "lG3IN_aZGhWV"
   },
   "outputs": [],
   "source": []
  },
  {
   "cell_type": "markdown",
   "metadata": {
    "id": "OZf6NlF35bkN"
   },
   "source": [
    "For education data, the cleaning process was much simpler. All we needed to do was drop missing rows, and then the dataset was ready for analysis. After that, we just imported the resultant csvs that came from the data scrapping work, and strip the slang of whitespace."
   ]
  },
  {
   "cell_type": "code",
   "execution_count": 2,
   "metadata": {
    "id": "hqFJoPqRGjQS"
   },
   "outputs": [],
   "source": [
    "education = pd.read_csv(\"Education - EducationReport (1) (1).csv\")\n",
    "education.dropna(axis='rows')\n",
    "education.head()\n",
    "abv = pd.read_csv(\"sc.csv\")\n",
    "abv.head()\n",
    "lyrics = pd.read_csv(\"song_lyrics_slang_freq.csv\")\n",
    "lyrics.head()\n",
    "tweet = pd.read_csv(\"updated_city_tweet.csv\")\n",
    "tweet.head()\n",
    "slag = pd.read_csv(\"SlagAdded_Clean2.csv\")\n",
    "slag.head()\n",
    "slag['slang'] = slag['slang'].str.strip()"
   ]
  },
  {
   "cell_type": "markdown",
   "metadata": {
    "id": "6gwHlyHkFpxP"
   },
   "source": [
    "# Data Analysis & Results"
   ]
  },
  {
   "cell_type": "markdown",
   "metadata": {
    "id": "RYFnX8CHK2G2"
   },
   "source": [
    "**Histograms**"
   ]
  },
  {
   "cell_type": "code",
   "execution_count": 3,
   "metadata": {
    "id": "9WcRsaZSKW4i"
   },
   "outputs": [
    {
     "data": {
      "text/plain": [
       "Text(0.5, 1.0, 'Urban Index Distribution')"
      ]
     },
     "execution_count": 3,
     "metadata": {},
     "output_type": "execute_result"
    },
    {
     "data": {
      "image/png": "[encoded data removed]",
      "text/plain": [
       "<Figure size 432x288 with 1 Axes>"
      ]
     },
     "metadata": {},
     "output_type": "display_data"
    }
   ],
   "source": [
    "p = sns.countplot(\"Urban\",data =education)\n",
    "p.set_xlabel(\"Urban Index Score\")\n",
    "p.set_title(\"Urban Index Distribution\")"
   ]
  },
  {
   "cell_type": "markdown",
   "metadata": {
    "id": "TCli8Y0sK_lF"
   },
   "source": [
    "This bar graph analyzes the distribution of urban index scores. Counties with the score of 5 are signifcantly more uncommon than coutneis with any other scores. However, there do not seem to be any outliers."
   ]
  },
  {
   "cell_type": "code",
   "execution_count": 4,
   "metadata": {
    "id": "qF_rbq2lKfrz"
   },
   "outputs": [
    {
     "data": {
      "text/plain": [
       "Text(0.5, 1.0, 'College Education Distribution')"
      ]
     },
     "execution_count": 4,
     "metadata": {},
     "output_type": "execute_result"
    },
    {
     "data": {
      "image/png": "[encoded data removed]",
      "text/plain": [
       "<Figure size 432x288 with 1 Axes>"
      ]
     },
     "metadata": {},
     "output_type": "display_data"
    }
   ],
   "source": [
    "p = sns.histplot(x=\"2019\",data =education,bins = 40)\n",
    "plt.xlabel(\"% College Educated by County\")\n",
    "p.set_title(\"College Education Distribution\")\n"
   ]
  },
  {
   "cell_type": "markdown",
   "metadata": {
    "id": "YEBY7b-nL6NU"
   },
   "source": [
    "This histogram charts the distribution of college education rates across American counties. This data seems skewed right with a few highly educated counties having signficantly higher college education rates than the rest. However, most counties tend to be within the 20% to 40% education rate range."
   ]
  },
  {
   "cell_type": "markdown",
   "metadata": {
    "id": "l25kDIzkMdsX"
   },
   "source": [
    "Now that the distributions of these key variables have been charted, we can now delve into some more insightful graphs.\n",
    "\n",
    "**Multivariate Graphs**"
   ]
  },
  {
   "cell_type": "code",
   "execution_count": 5,
   "metadata": {
    "id": "ZACfeajDKwQN"
   },
   "outputs": [
    {
     "data": {
      "text/plain": [
       "Text(0.5, 1.0, '% College by Urban Index')"
      ]
     },
     "execution_count": 5,
     "metadata": {},
     "output_type": "execute_result"
    },
    {
     "data": {
      "image/png": "[encoded data removed]",
      "text/plain": [
       "<Figure size 432x288 with 1 Axes>"
      ]
     },
     "metadata": {},
     "output_type": "display_data"
    }
   ],
   "source": [
    "p= sns.barplot(x=\"Urban\",y=\"2019\",data = education)\n",
    "p.set_xlabel(\"Urban Index Score\")\n",
    "p.set_ylabel(\"% College\")\n",
    "p.set_title(\"% College by Urban Index\")"
   ]
  },
  {
   "cell_type": "markdown",
   "metadata": {
    "id": "kQr1PD4kNBkb"
   },
   "source": [
    "Now,the obvious next step is graph college education rates with urban index scores. Graphing this, we see that counties with a score of 1 have the highest rate of college education, while those with a score of 6 have the lowest. Unfortunately, there is no clear trend showing decreasing levels of college education as the index score increases. This means more analysis is required!"
   ]
  },
  {
   "cell_type": "code",
   "execution_count": 6,
   "metadata": {
    "id": "6ZTx2oi8ODw0"
   },
   "outputs": [
    {
     "data": {
      "text/plain": [
       "{'AZ': -0.644198450561376,\n",
       " 'DE': -0.9819805060619659,\n",
       " 'FL': -0.693125708919179,\n",
       " 'IL': -0.6081781815286073,\n",
       " 'IA': -0.5025715436322338,\n",
       " 'KY': -0.5247632846113541,\n",
       " 'LA': -0.5023898833058986,\n",
       " 'MN': -0.5398804218671762,\n",
       " 'MO': -0.5126084092310675,\n",
       " 'NV': -0.7154305124884399,\n",
       " 'NH': -0.6866602359893941,\n",
       " 'OH': -0.6155267375487595,\n",
       " 'OR': -0.5375637988389662,\n",
       " 'PA': -0.6332817560391005,\n",
       " 'SC': -0.5221860133909334,\n",
       " 'UT': -0.5076112874167206,\n",
       " 'VA': -0.50102078748295,\n",
       " 'WI': -0.559527667738753}"
      ]
     },
     "execution_count": 6,
     "metadata": {},
     "output_type": "execute_result"
    }
   ],
   "source": [
    "part = education['State'].unique().tolist()\n",
    "corr_dict = {}\n",
    "for i in part:\n",
    "    df = education[(education.State == i)]\n",
    "    #sns.barplot(x=\"Urban\",y=\"2019\",data = df)\n",
    "    column_1 = df['Urban']\n",
    "    column_2 = df[\"2019\"]\n",
    "    correlation = column_1.corr(column_2)\n",
    "    if(abs(correlation)>.5):\n",
    "        corr_dict[i] = correlation\n",
    "corr_dict\n"
   ]
  },
  {
   "cell_type": "markdown",
   "metadata": {
    "id": "lEXjatKPOLnF"
   },
   "source": [
    "Though the overall dataset does not seem to have any clear correlation, states are very diverse and it is possible that certain states do have the correlation between urbanness and education rates. Thus, we iterated through the state data, and for each state, we went through every county and measured the pearson correlation coeffcient. In any state where there was a signficant correlation of greater than .5, we graphed the distribution of their counties."
   ]
  },
  {
   "cell_type": "code",
   "execution_count": 7,
   "metadata": {
    "id": "QQTxQIjPOJ9k"
   },
   "outputs": [
    {
     "data": {
      "text/plain": [
       "Text(0.5, 1.0, 'Singifcant Urban College Correlations')"
      ]
     },
     "execution_count": 7,
     "metadata": {},
     "output_type": "execute_result"
    },
    {
     "data": {
      "image/png": "[encoded data removed]",
      "text/plain": [
       "<Figure size 1914.2x1800 with 1 Axes>"
      ]
     },
     "metadata": {},
     "output_type": "display_data"
    }
   ],
   "source": [
    "listy = corr_dict.keys()\n",
    "df2 = education[education['State'].isin(listy)]\n",
    "df2\n",
    "g = sns.catplot(\n",
    "    data=df2, kind=\"bar\",\n",
    "    x=\"State\", y=\"2019\",hue = 'Urban',height=25,ci = None)\n",
    "\n",
    "plt.ylabel(\"% College\")\n",
    "plt.title(\"Singifcant Urban College Correlations\")\n",
    "    "
   ]
  },
  {
   "cell_type": "markdown",
   "metadata": {
    "id": "HxmhptB2PKEu"
   },
   "source": [
    "As is evident, most of these states seem to have a clear pattern of urban areas being signifacntly higher educated than their rural counter parts. There are some outliers in a few of these states - for example in Kentucky and Utah, counties with an urban index of 4 tend to be the most educated by far. In New Hampshire, all counties seem to have high education rates. Overall, this graph shows us that 18 different states or 45% of all states have significant levels of correlation between urbanness and education. "
   ]
  },
  {
   "cell_type": "code",
   "execution_count": 23,
   "metadata": {
    "id": "AF4a9zUxRAg4"
   },
   "outputs": [
    {
     "data": {
      "text/plain": [
       "<matplotlib.legend.Legend at 0x7f11c3370820>"
      ]
     },
     "execution_count": 23,
     "metadata": {},
     "output_type": "execute_result"
    },
    {
     "data": {
      "image/png": "[encoded data removed]",
      "text/plain": [
       "<Figure size 432x288 with 1 Axes>"
      ]
     },
     "metadata": {},
     "output_type": "display_data"
    }
   ],
   "source": [
    "df2 = education[education['2019']<=.15]\n",
    "df = education[education['2019']>=.3]\n",
    "df3 = education[education['2019']<.3]\n",
    "df3 = df3[df3['2019']>.15]\n",
    "med_list = []\n",
    "e_list = []\n",
    "n_list = []\n",
    "year_list = ['1970','1980','1990','2000','2019']\n",
    "for i in year_list:\n",
    "    med_list.append(df3[i].median())\n",
    "for i in year_list:\n",
    "    e_list.append(df[i].median())\n",
    "for i in year_list:\n",
    "    n_list.append(df2[i].median())\n",
    "med_list\n",
    "sns.lineplot(x=year_list,y=med_list)\n",
    "sns.lineplot(x=year_list,y=e_list)\n",
    "sns.lineplot(x=year_list,y=n_list)\n",
    "plt.title(\"College Education Overtime\")\n",
    "plt.xlabel('years')\n",
    "plt.ylabel('college education rate')\n",
    "plt.legend(labels=[\"Middle 50%\",\"Top 25%\",\"Bottom 25%\"])"
   ]
  },
  {
   "cell_type": "markdown",
   "metadata": {
    "id": "hfCPUoxFRFY4"
   },
   "source": [
    "Now that we found relationships in the core data itself, we wanted to look at education trends overtime. This graph shows the trends in educational attainment for the top 25%, 50%, and 75th% of counties in terms of their current 2019 education rates. Though it is clear that all counties have seen increases in college education since the 1970s, the top 25% has seen a far more dramatic increase than the other two categories. Similarly, the gap between the top group and the bottom two groups has rapidly increased since the 1970s. This could be indicative of the broader increase in inequality in American society in the last 40 years."
   ]
  },
  {
   "cell_type": "code",
   "execution_count": 22,
   "metadata": {
    "id": "-PDkj3AoSjF_"
   },
   "outputs": [
    {
     "data": {
      "text/plain": [
       "<matplotlib.legend.Legend at 0x7f11b62708b0>"
      ]
     },
     "execution_count": 22,
     "metadata": {},
     "output_type": "execute_result"
    },
    {
     "data": {
      "image/png": "[encoded data removed]",
      "text/plain": [
       "<Figure size 432x288 with 1 Axes>"
      ]
     },
     "metadata": {},
     "output_type": "display_data"
    }
   ],
   "source": [
    "df7 = education[education['Urban']==1]\n",
    "df2 = df7[df7['2019']<=.15]\n",
    "df = df7[df7['2019']>=.3]\n",
    "df3 = df7[df7['2019']<.3]\n",
    "df3 = df7[df7['2019']>.15]\n",
    "med_list = []\n",
    "e_list = []\n",
    "n_list = []\n",
    "year_list = ['1970','1980','1990','2000','2019']\n",
    "for i in year_list:\n",
    "    med_list.append(df3[i].median())\n",
    "for i in year_list:\n",
    "    e_list.append(df[i].median())\n",
    "for i in year_list:\n",
    "    n_list.append(df2[i].median())\n",
    "med_list\n",
    "sns.lineplot(x=year_list,y=med_list)\n",
    "sns.lineplot(x=year_list,y=e_list)\n",
    "sns.lineplot(x=year_list,y=n_list)\n",
    "\n",
    "plt.title(\"College Education Overtime for most urban counties\")\n",
    "plt.xlabel('years')\n",
    "plt.ylabel('college education rate')\n",
    "plt.legend(labels=[\"Middle 50%\",\"Top 25%\",\"Bottom 25%\"])"
   ]
  },
  {
   "cell_type": "markdown",
   "metadata": {
    "id": "gSOIpcnPSq6s"
   },
   "source": [
    "This increasing inequality is even more evident in counties with an urbanness index of 1. The top category (top 25%) has increased by almost 30% since 1970, while the median group has increased by 23%. The bottom group of counties has only increased by less 8%. When we looked at other urban score groups we found inequality but it was not nearly as stark. Again, examining portions of the data has allowed us to gain clearer insights."
   ]
  },
  {
   "cell_type": "code",
   "execution_count": null,
   "metadata": {
    "id": "A5WEjeePTqYO"
   },
   "outputs": [],
   "source": []
  },
  {
   "cell_type": "code",
   "execution_count": 10,
   "metadata": {
    "id": "9e75d1DiUG_r"
   },
   "outputs": [],
   "source": [
    "education = education.rename(columns={'2019':'year'})\n",
    "dependent, predictors = patsy.dmatrices('year ~ Urban',education)\n",
    "model = sm.OLS(dependent,predictors)\n",
    "res_1 = model.fit()"
   ]
  },
  {
   "cell_type": "code",
   "execution_count": 11,
   "metadata": {
    "id": "HaI2mbnAUN7y"
   },
   "outputs": [
    {
     "name": "stdout",
     "output_type": "stream",
     "text": [
      "                            OLS Regression Results                            \n",
      "==============================================================================\n",
      "Dep. Variable:                   year   R-squared:                       0.166\n",
      "Model:                            OLS   Adj. R-squared:                  0.166\n",
      "Method:                 Least Squares   F-statistic:                     625.3\n",
      "Date:                Mon, 14 Mar 2022   Prob (F-statistic):          5.32e-126\n",
      "Time:                        08:09:33   Log-Likelihood:                 3206.3\n",
      "No. Observations:                3141   AIC:                            -6409.\n",
      "Df Residuals:                    3139   BIC:                            -6396.\n",
      "Df Model:                           1                                         \n",
      "Covariance Type:            nonrobust                                         \n",
      "==============================================================================\n",
      "                 coef    std err          t      P>|t|      [0.025      0.975]\n",
      "------------------------------------------------------------------------------\n",
      "Intercept      0.2920      0.003     89.224      0.000       0.286       0.298\n",
      "Urban         -0.0144      0.001    -25.005      0.000      -0.015      -0.013\n",
      "==============================================================================\n",
      "Omnibus:                      691.409   Durbin-Watson:                   1.543\n",
      "Prob(Omnibus):                  0.000   Jarque-Bera (JB):             1640.118\n",
      "Skew:                           1.217   Prob(JB):                         0.00\n",
      "Kurtosis:                       5.571   Cond. No.                         12.3\n",
      "==============================================================================\n",
      "\n",
      "Notes:\n",
      "[1] Standard Errors assume that the covariance matrix of the errors is correctly specified.\n"
     ]
    }
   ],
   "source": [
    "print(res_1.summary())"
   ]
  },
  {
   "cell_type": "markdown",
   "metadata": {
    "id": "Rf0jGZKKUSUG"
   },
   "source": [
    "Finally, after investigating potential relationships within various portions of the dataset, we went back to determine the core question of whether urbanization correlates with education. The inital graph between college education rates and urbanization suggested that it would not, but given what we found with signifcant relationships in many states, we thought it would be prudent to check. We used OLS because the sample size of the data set was large enough to meet the neccesary assumption for linear regression ie n>30. The Urbanization Index Scores can be seen as interval scores based on how the government calculated them. After conducting the test, we determined that there was a somewhat significant relationship between the two variables. This is seen from the fact that the regression does not have any 0s. "
   ]
  },
  {
   "cell_type": "markdown",
   "metadata": {
    "id": "3YxbyqWa50Tn"
   },
   "source": [
    "**Exploration of Tweet Data**"
   ]
  },
  {
   "cell_type": "code",
   "execution_count": 17,
   "metadata": {
    "id": "wDAA5OmQWA6u"
   },
   "outputs": [
    {
     "data": {
      "image/png": "[encoded data removed]",
      "text/plain": [
       "<Figure size 432x288 with 1 Axes>"
      ]
     },
     "metadata": {},
     "output_type": "display_data"
    },
    {
     "data": {
      "text/plain": [
       "<Figure size 288x288 with 0 Axes>"
      ]
     },
     "metadata": {},
     "output_type": "display_data"
    }
   ],
   "source": [
    "slag = pd.read_csv(\"SlagAdded_Clean2.csv\")\n",
    "slag.head()\n",
    "slag['slang'].str.strip()\n",
    "\n",
    "top = slag['slang'].value_counts()[0:20].index.tolist()\n",
    "top_10 = slag[slag['slang'].isin(top)]\n",
    "top\n",
    "\n",
    "top_10['slang'].value_counts().plot(kind=\"bar\")\n",
    "plt.xlabel(\"Words\")\n",
    "plt.ylabel(\"Counts\")\n",
    "plt.title(\"Top slang words\")\n",
    "\n",
    "sns.set(font_scale = 1)\n",
    "plt.figure(figsize=(4, 4))\n",
    "\n",
    "plt.show()"
   ]
  },
  {
   "cell_type": "markdown",
   "metadata": {
    "id": "W_BtTZ0qXGmo"
   },
   "source": [
    "Now that the education and urbanness questions have somewhat been dealt with, we can examine the twitter slang data. The above code is graphing the top 20 most frequently used slang terminology among the public in 2019. These words are derived from similar terms used in popular music in that year. The graph shows that words like \"af\", and \"lit\" were among the most popular with thousands of mentions in our sample. "
   ]
  },
  {
   "cell_type": "code",
   "execution_count": 13,
   "metadata": {
    "id": "NIOeWuV46AfC"
   },
   "outputs": [
    {
     "data": {
      "image/png": "[encoded data removed]",
      "text/plain": [
       "<Figure size 432x288 with 1 Axes>"
      ]
     },
     "metadata": {},
     "output_type": "display_data"
    },
    {
     "data": {
      "text/plain": [
       "<Figure size 360x360 with 0 Axes>"
      ]
     },
     "metadata": {},
     "output_type": "display_data"
    }
   ],
   "source": [
    "df = slag.loc[slag['slang'] == 'af  ']\n",
    "top = (df['state'].value_counts()[:20].index.tolist())\n",
    "top_val = df['state'].value_counts()[:20].tolist()\n",
    "top_val\n",
    "df2 = pd.DataFrame()\n",
    "df2['state']= top\n",
    "df2['code'] = top_val\n",
    "\n",
    "df = slag.loc[slag['slang'] == 'af  ']\n",
    "top = df['state'].value_counts()[:20].index.tolist()\n",
    "top_10 = df[df['state'].isin(top)]\n",
    "top_10['state'].value_counts().plot(kind=\"bar\")\n",
    "plt.xlabel(\"States\")\n",
    "plt.ylabel(\"Counts\")\n",
    "plt.title(\"Distribution of af\")\n",
    "sns.set(font_scale = 1)\n",
    "plt.figure(figsize=(5, 5))\n",
    "plt.show()"
   ]
  },
  {
   "cell_type": "markdown",
   "metadata": {
    "id": "LgjJQ7_hYOTn"
   },
   "source": [
    "If we examine the geographic distribution of the top slang term - \"AF\" we see that California and Texas very clearly eclipse the rest of the states. This is likely due to their large population. However, not all of the states on this top 20 graph are highly populous, but many of them feature highly educated urban centers like Denver, Phoenix, Nashville etc. Maybe education does play a role?"
   ]
  },
  {
   "cell_type": "code",
   "execution_count": 14,
   "metadata": {
    "id": "jadsBAkIYO_I"
   },
   "outputs": [
    {
     "data": {
      "text/plain": [
       "Text(0.5, 1.0, 'Slang Term Frequency')"
      ]
     },
     "execution_count": 14,
     "metadata": {},
     "output_type": "execute_result"
    },
    {
     "data": {
      "image/png": "[encoded data removed]",
      "text/plain": [
       "<Figure size 432x288 with 1 Axes>"
      ]
     },
     "metadata": {},
     "output_type": "display_data"
    },
    {
     "data": {
      "text/plain": [
       "<Figure size 720x720 with 0 Axes>"
      ]
     },
     "metadata": {},
     "output_type": "display_data"
    }
   ],
   "source": [
    "\n",
    "toper = slag.groupby(['state']).size().reset_index(name='obs')\n",
    "summer = toper['obs'].sum()\n",
    "x_list = list(toper['obs'].values)\n",
    "x_list\n",
    "prop_list = []\n",
    "for i in x_list:\n",
    "    prop_list.append(i/summer)\n",
    "toper['prop'] = prop_list\n",
    "toper = toper.sort_values(by=['prop'],ascending = False).iloc[0:19]\n",
    "toper\n",
    "toper['abv'] = ['CA','TX','FL','CO','AZ','NC','WA','MA','MI','VA','IL','NJ',\"OH\",\"GA\",\"MO\",'TN',\"NV\",\"NY\",'KS']\n",
    "toper\n",
    "\n",
    "\n",
    "p = sns.barplot(x='abv',y='prop',data=toper)\n",
    "\n",
    "plt.figure(figsize=(10, 10))\n",
    " \n",
    "sns.set(font_scale = 1)\n",
    "p.set_title(\"Slang Term Frequency\")"
   ]
  },
  {
   "cell_type": "markdown",
   "metadata": {
    "id": "GOGGHDZkYRb4"
   },
   "source": [
    "When we examine the prevelance of all the top slang words in each state, we see that California (given that it has the largest population) seems to have the most mentions of slang terms. In general, many of the most populace states tend to be here, however, there is not a complete pattern of correlation with population. For example, CO and AZ are among the top for slang usage while larger states like PA, MD, WI, MN, and SC are missing from the top. In order to address our research question, we have to check how these states line up with states with the top education rates."
   ]
  },
  {
   "cell_type": "markdown",
   "metadata": {
    "id": "fuG_D5ch7EqI"
   },
   "source": [
    "**Putting it all together**"
   ]
  },
  {
   "cell_type": "code",
   "execution_count": 18,
   "metadata": {
    "id": "Ov6tDabvva_L"
   },
   "outputs": [
    {
     "data": {
      "text/plain": [
       "Text(0.5, 1.0, 'Top_25% College educated counties')"
      ]
     },
     "execution_count": 18,
     "metadata": {},
     "output_type": "execute_result"
    },
    {
     "data": {
      "image/png": "[encoded data removed]",
      "text/plain": [
       "<Figure size 360x360 with 1 Axes>"
      ]
     },
     "metadata": {},
     "output_type": "display_data"
    }
   ],
   "source": [
    "education = pd.read_csv(\"Education - EducationReport (1) (1).csv\")\n",
    "education.dropna(axis='rows')\n",
    "part = education['State']\n",
    "\n",
    "part=part.unique().tolist()\n",
    "corr_dict = {}\n",
    "for i in part:\n",
    "    df = education[(education.State == i)]\n",
    "    #sns.barplot(x=\"Urban\",y=\"2019\",data = df)\n",
    "    \n",
    "    column_2 = df[\"2019\"]\n",
    "    \n",
    "    if(abs(column_2.mean())>.26):\n",
    "        corr_dict[i] = column_2.mean()\n",
    "corr_dict = {k: v for k, v in sorted(corr_dict.items(), key=lambda item: item[1])}\n",
    "corr_dict\n",
    "\n",
    "listy = corr_dict.keys()\n",
    "df2 = education[education['State'].isin(listy)]\n",
    "df2\n",
    "g = sns.catplot(\n",
    "    data=df2, kind=\"bar\",\n",
    "    x=\"State\", y=\"2019\",height=5,ci = None)\n",
    "\n",
    "sns.set(font_scale = .5)\n",
    "plt.ylabel(\"% College\")\n",
    "plt.title(\"Top_25% College educated counties\")\n"
   ]
  },
  {
   "cell_type": "markdown",
   "metadata": {
    "id": "uEvdad1Vvs8k"
   },
   "source": [
    "Thus, we decided to graph the top 25th percentile of college educated states, and as predicted there is no level of signifcant overlap. For example, some of the states with the lowest proportion of slang terms ranked in the top of the education graph including heavily urbanized states like Hawaii."
   ]
  },
  {
   "cell_type": "code",
   "execution_count": 19,
   "metadata": {
    "id": "45MI0HE34YQ-"
   },
   "outputs": [
    {
     "data": {
      "text/plain": [
       "Text(0.5, 1.0, 'Tweets vs Education')"
      ]
     },
     "execution_count": 19,
     "metadata": {},
     "output_type": "execute_result"
    },
    {
     "data": {
      "image/png": "[encoded data removed]",
      "text/plain": [
       "<Figure size 360x360 with 1 Axes>"
      ]
     },
     "metadata": {},
     "output_type": "display_data"
    }
   ],
   "source": [
    "toper = slag.groupby(['state']).size().reset_index(name='obs')\n",
    "summer = toper['obs'].sum()\n",
    "x_list = list(toper['obs'].values)\n",
    "x_list\n",
    "prop_list = []\n",
    "for i in x_list:\n",
    "    prop_list.append(i/summer)\n",
    "toper['prop'] = prop_list\n",
    "toper = toper.sort_values(by=['prop'],ascending = False)\n",
    "toper\n",
    "toper['abv'] = ['CA','TX','FL','CO','AZ','NC','WA','MA','MI','VA','IL','NJ',\"OH\",\"GA\",\"MO\",'TN',\"NV\",\"NY\",'KS','CT','OR','OK','LA','UT','IN','AL','MN','PA','NM','ID','SC','IA','WI','NE','KY','DC','MD','HI','AR','RI','NH','MS','AK','ND','SD',\n",
    "            'MT']\n",
    "\n",
    "part = toper['abv']\n",
    "\n",
    "part=part.unique().tolist()\n",
    "corr_dict = {}\n",
    "listy1 = []\n",
    "listy2 = []\n",
    "for i in part:\n",
    "    df = education[(education.State == i)]\n",
    "    #sns.barplot(x=\"Urban\",y=\"2019\",data = df)\n",
    "    \n",
    "    column_2 = df[\"2019\"]\n",
    "    \n",
    "    \n",
    "    listy2.append(column_2.mean())\n",
    "    listy1.append(i)\n",
    "toper['education'] = listy2\n",
    "toper\n",
    "sns.set(font_scale = 1)\n",
    "g = sns.lmplot(x=\"prop\", y=\"education\", data=toper.iloc[4:])\n",
    "plt.xlabel(\"Proportion of Slang\")\n",
    "plt.ylabel(\"College Education Rate\")\n",
    "plt.title(\"Tweets vs Education\")"
   ]
  },
  {
   "cell_type": "markdown",
   "metadata": {
    "id": "9CmJ7m8x4kH-"
   },
   "source": [
    "In order to corroborate what the two graphs tell us, we should graph both together. Thus, we created a scatter plot of tweet frequency vs college education rate. We removed a few outliers to give a better read of the data, and then we generated a graph that shows exactly what predicted. There is a very low likleyhood that these two variables are correlated."
   ]
  },
  {
   "cell_type": "markdown",
   "metadata": {
    "id": "J_BRpr9oZotk"
   },
   "source": [
    "We hypothesize that the reason there seems to be little relevance even upon an exploratory glance, between education rates and usage of hip slang terms might be due to one of the factors analyzed earlier. As existing educated areas are getting better and better educated, more cultural capital is concentrated in such areas. Therefore, they have greater abilties to influence rural areas around them, especially augmented by the power of the internet."
   ]
  },
  {
   "cell_type": "markdown",
   "metadata": {
    "id": "_HPvrY0DaJm8"
   },
   "source": [
    "In conclusion, there seems to be a correlation between education rates and urbanization across the US on both the state and county levels. Our group hypothesized that this would be the case, and attempted to use that assumption to predict that urbanized, educated areas would be more likely to use pop culture slang terms. Unfortunately, the slang data clearly does not display any correlation between a state's education and slang usage. Therefore, our null hypothesis has been retained and our alternative hypothesis that Urban areas would be much more likely to adopt cultural slang has yet to be substantiated."
   ]
  },
  {
   "cell_type": "markdown",
   "metadata": {
    "id": "q9hUvn7WFpxQ"
   },
   "source": [
    "# Ethics & Privacy"
   ]
  },
  {
   "cell_type": "markdown",
   "metadata": {
    "id": "ulyGMIq3FpxQ"
   },
   "source": [
    "While there is not a distinct form of identifiable information that can target an individual, the data does specify a geographical region and their educational level. The educational and urban rural divides in this country are among the most stark and contentious, and thus, even with a cultural topic like this, we must make sure that we are not inflaming stereotypes or pre-existing biases about people from various socio-economic walks of life. In addition, in particularly small counties, there are risks just by the nature of their size, we reveal the educational status of individuals.\n",
    "While the data we’ll be using won’t have any personal identifying information, it’s possible that education could be misrepresented in urban vs country areas. We may have to break up data and group certain variables differently to prevent the misrepresentation. Next, there may be lexical gravitation to certain words or phrases based upon the music listeners due to their geographical region and whether the individual is a resident in an urban vs rural area. The musical demographics may turn out to be biased in its representation due to the varying music tastes among the different states in the U.S. By using Spotify’s Top U.S. music charts instead of the viral charts which are made using global data, we can prevent working with a biased playlist. Different genres of music may also not be represented equally depending on the density (population) of the location, which can greatly alter outcomes. It’s also possible that there may be real estate discrepancies in regions in reference to education level which could affect the different genres of music the people in the region listen to. Our approach will be to have as specific of a target audience as possible, within each of our subsets (geography, music type, education level), to draw compelling conclusions from our data.\n"
   ]
  },
  {
   "cell_type": "markdown",
   "metadata": {
    "id": "5Z9-6A42FpxQ"
   },
   "source": [
    "# Conclusion & Discussion"
   ]
  },
  {
   "cell_type": "markdown",
   "metadata": {
    "id": "p9sYNfp8FpxQ"
   },
   "source": [
    "Our research question sought to tackle how education level relates to major socio-cultural factors in society. Based on our analysis, we can conclude that there is a correlation between education levels and the urbanization of viral songs in the United States. However, there is no major correlation between educational attainment and cognizance of culturally salient vocabulary. After running our regression model with our dependent values being year and urban, the p-value calculated was 0.0, which suggests a relationship between education level and urbanization. Our initial graph of the two variables showed somewhat of a correlation, but it was not too salient as it did not show a clear downward trajectory as urban index scores increased. However, after digging into the data and finding that over 18% of states had correlations with R values above .5, and looking at those graphs, the likelihood that we could find something significant increased. Finally, after our OLS regression, we were able to show correlation between the two variables. Interestingly, like many other trends in American society, education rates have changed over time relatively unequally with educated areas getting more educated faster, while lesser educated areas show much less dramatic increases in college education rates over time.\n",
    "\n",
    "When looking at the culturally salient vocabulary, we first looked at the distribution of the twenty most frequent words in Spotify’s Top 50 viral hits of 2019. We then tried to look at the distribution of engagement by State to generally gauge the patterns. Population seemed to be a key determinant, based on the fact that CA and TX made up a large portion of uses of the words in question. However, correlation with education seemed unlikely. Then, we compared this graph with the graph of most educated states and saw limited overlap. Finally, we generated a line plot between education rate and each state’s proportion of tweets relative to a whole, and clearly could perceive that there was very low likelihood of significant correlation.\n",
    "\n",
    "\n",
    "There are several limitations of this project. First, we utilized only two of the multitude of socio-cultural societal factors. Another major limitation is that we were unable to get county level data for the twitter information we scraped, and so were not able to go any more granular than the state level. Finally, though we found that inequality in education growth was highest among the most urban regions we did not ascertain why, because that would be beyond the scope of the current project. In terms of social impact, this project can help explain the growing educational polarization in American society. Based on our findings, educated, and non college educated Americans may still share common cultural ties, even if they tend to congregate in different type of environments to some degree. This may be because centers of educated individuals are only getting more educated, and are thus increasing in their level of cultural capital, and thus their ability to influence the communities around them. Or it could be that our communities are still integrated enough where we are still physically sharing a common culture. This later possibility  is hinted at by the relatively low pearson's coefficent score for the education/urbanization correlation.\n"
   ]
  },
  {
   "cell_type": "markdown",
   "metadata": {
    "id": "4sPDZcwYFpxQ"
   },
   "source": [
    "# Team Contributions"
   ]
  },
  {
   "cell_type": "markdown",
   "metadata": {
    "id": "W31jyTUmFpxS"
   },
   "source": [
    "M - Overview, Research Question, Hypothesis, Ethics & Privacy, removed tweet duplicates from Twitter dataset, editing sections, Conclusion & Discussion\n",
    "\n",
    "N - Overview, Research Question, Hypothesis, Background and Prior Work, found datasets, scraped Twitter and Genius for data, cleaned Twitter and Genius datasets, explanation of data, Conclusion & Discussion\n",
    "\n",
    "H - Overview, Research Question, Hypothesis, Ethics & Privacy, Team Contributions, removed duplicates from Spotify’s top songs data, editing sections, checked grammar, Conclusion & Discussion\n",
    "\n",
    "K - Overview, Research Question, Hypothesis, Ethics & Privacy, editing sections, checked grammar, Conclusion & Discussion\n",
    "\n",
    "S - Overview, Research Question, Hypothesis, Background and Prior Work, found, cleaned, graphed, analyzed the education data and its results, explanation of data, Conclusion & Discussion\n"
   ]
  }
 ],
 "metadata": {
  "colab": {
   "collapsed_sections": [],
   "name": "FinalProjectGroup074-Wi22.ipynb",
   "provenance": []
  },
  "kernelspec": {
   "display_name": "Python 3 (ipykernel)",
   "language": "python",
   "name": "python3"
  },
  "language_info": {
   "codemirror_mode": {
    "name": "ipython",
    "version": 3
   },
   "file_extension": ".py",
   "mimetype": "text/x-python",
   "name": "python",
   "nbconvert_exporter": "python",
   "pygments_lexer": "ipython3",
   "version": "3.9.5"
  }
 },
 "nbformat": 4,
 "nbformat_minor": 1
}
